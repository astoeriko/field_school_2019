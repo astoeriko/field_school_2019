{
 "cells": [
  {
   "cell_type": "markdown",
   "metadata": {},
   "source": [
    "# Piezometer Installation\n",
    "\n",
    "Group 7\n",
    "\n",
    "2019-04-23"
   ]
  },
  {
   "cell_type": "markdown",
   "metadata": {},
   "source": [
    "## Piezometer geometry and water level depth"
   ]
  },
  {
   "cell_type": "code",
   "execution_count": 1,
   "metadata": {},
   "outputs": [],
   "source": [
    "# Enter distances and lengths from my notebook\n",
    "length_of_casing = 163\n",
    "stack_up = 21 # distance form land-surface to top of the casing\n",
    "medium_port_from_bottom_of_casing = 40\n",
    "shallow_port_from_bottom_of_casing = 80\n",
    "water_table_from_top_of_casing = 42"
   ]
  },
  {
   "cell_type": "code",
   "execution_count": 2,
   "metadata": {},
   "outputs": [],
   "source": [
    "# Compute the required heights\n",
    "# sampling depth below ground surface\n",
    "z_shallow = length_of_casing - stack_up - shallow_port_from_bottom_of_casing\n",
    "z_medium = length_of_casing - stack_up - medium_port_from_bottom_of_casing\n",
    "z_deep = length_of_casing - stack_up"
   ]
  },
  {
   "cell_type": "code",
   "execution_count": 3,
   "metadata": {},
   "outputs": [],
   "source": [
    "import pandas as pd"
   ]
  },
  {
   "cell_type": "code",
   "execution_count": 4,
   "metadata": {},
   "outputs": [],
   "source": [
    "depths = pd.Series(index=['shallow', 'medium', 'deep'],\n",
    "                   data=[z_shallow, z_medium, z_deep],\n",
    "                   name='sampling screen depth bgs [cm]')"
   ]
  },
  {
   "cell_type": "code",
   "execution_count": 5,
   "metadata": {},
   "outputs": [
    {
     "data": {
      "text/html": [
       "<div>\n",
       "<style scoped>\n",
       "    .dataframe tbody tr th:only-of-type {\n",
       "        vertical-align: middle;\n",
       "    }\n",
       "\n",
       "    .dataframe tbody tr th {\n",
       "        vertical-align: top;\n",
       "    }\n",
       "\n",
       "    .dataframe thead th {\n",
       "        text-align: right;\n",
       "    }\n",
       "</style>\n",
       "<table border=\"1\" class=\"dataframe\">\n",
       "  <thead>\n",
       "    <tr style=\"text-align: right;\">\n",
       "      <th></th>\n",
       "      <th>sampling screen depth bgs [cm]</th>\n",
       "    </tr>\n",
       "  </thead>\n",
       "  <tbody>\n",
       "    <tr>\n",
       "      <th>shallow</th>\n",
       "      <td>62</td>\n",
       "    </tr>\n",
       "    <tr>\n",
       "      <th>medium</th>\n",
       "      <td>102</td>\n",
       "    </tr>\n",
       "    <tr>\n",
       "      <th>deep</th>\n",
       "      <td>142</td>\n",
       "    </tr>\n",
       "  </tbody>\n",
       "</table>\n",
       "</div>"
      ],
      "text/plain": [
       "         sampling screen depth bgs [cm]\n",
       "shallow                              62\n",
       "medium                              102\n",
       "deep                                142"
      ]
     },
     "execution_count": 5,
     "metadata": {},
     "output_type": "execute_result"
    }
   ],
   "source": [
    "depths.to_frame()"
   ]
  },
  {
   "cell_type": "markdown",
   "metadata": {},
   "source": [
    "## Electrical conductivity\n",
    "We have measured electrical conductivity of the water several times.\n",
    "Here I compute averages so that we can enter a single value into the excel sheet."
   ]
  },
  {
   "cell_type": "code",
   "execution_count": 17,
   "metadata": {},
   "outputs": [
    {
     "data": {
      "text/html": [
       "<div>\n",
       "<style scoped>\n",
       "    .dataframe tbody tr th:only-of-type {\n",
       "        vertical-align: middle;\n",
       "    }\n",
       "\n",
       "    .dataframe tbody tr th {\n",
       "        vertical-align: top;\n",
       "    }\n",
       "\n",
       "    .dataframe thead th {\n",
       "        text-align: right;\n",
       "    }\n",
       "</style>\n",
       "<table border=\"1\" class=\"dataframe\">\n",
       "  <thead>\n",
       "    <tr style=\"text-align: right;\">\n",
       "      <th></th>\n",
       "      <th>depth</th>\n",
       "      <th>time</th>\n",
       "      <th>EC [µS]</th>\n",
       "      <th>T [°C]</th>\n",
       "    </tr>\n",
       "  </thead>\n",
       "  <tbody>\n",
       "    <tr>\n",
       "      <th>0</th>\n",
       "      <td>deep</td>\n",
       "      <td>10:29</td>\n",
       "      <td>1219</td>\n",
       "      <td>4.8</td>\n",
       "    </tr>\n",
       "    <tr>\n",
       "      <th>1</th>\n",
       "      <td>deep</td>\n",
       "      <td>10:30</td>\n",
       "      <td>1234</td>\n",
       "      <td>4.6</td>\n",
       "    </tr>\n",
       "    <tr>\n",
       "      <th>2</th>\n",
       "      <td>deep</td>\n",
       "      <td>10:31</td>\n",
       "      <td>1247</td>\n",
       "      <td>4.4</td>\n",
       "    </tr>\n",
       "    <tr>\n",
       "      <th>3</th>\n",
       "      <td>deep</td>\n",
       "      <td>10:46</td>\n",
       "      <td>1233</td>\n",
       "      <td>4.7</td>\n",
       "    </tr>\n",
       "    <tr>\n",
       "      <th>4</th>\n",
       "      <td>medium</td>\n",
       "      <td>10:35</td>\n",
       "      <td>1958</td>\n",
       "      <td>5.3</td>\n",
       "    </tr>\n",
       "    <tr>\n",
       "      <th>5</th>\n",
       "      <td>medium</td>\n",
       "      <td>10:36</td>\n",
       "      <td>1960</td>\n",
       "      <td>5.3</td>\n",
       "    </tr>\n",
       "    <tr>\n",
       "      <th>6</th>\n",
       "      <td>medium</td>\n",
       "      <td>10:38</td>\n",
       "      <td>1970</td>\n",
       "      <td>5.2</td>\n",
       "    </tr>\n",
       "    <tr>\n",
       "      <th>7</th>\n",
       "      <td>medium</td>\n",
       "      <td>10:48</td>\n",
       "      <td>1990</td>\n",
       "      <td>5.2</td>\n",
       "    </tr>\n",
       "    <tr>\n",
       "      <th>8</th>\n",
       "      <td>shallow</td>\n",
       "      <td>10:42</td>\n",
       "      <td>891</td>\n",
       "      <td>6.6</td>\n",
       "    </tr>\n",
       "    <tr>\n",
       "      <th>9</th>\n",
       "      <td>shallow</td>\n",
       "      <td>10:43</td>\n",
       "      <td>893</td>\n",
       "      <td>6.5</td>\n",
       "    </tr>\n",
       "    <tr>\n",
       "      <th>10</th>\n",
       "      <td>shallow</td>\n",
       "      <td>10:44</td>\n",
       "      <td>893</td>\n",
       "      <td>6.5</td>\n",
       "    </tr>\n",
       "    <tr>\n",
       "      <th>11</th>\n",
       "      <td>shallow</td>\n",
       "      <td>10:50</td>\n",
       "      <td>870</td>\n",
       "      <td>6.2</td>\n",
       "    </tr>\n",
       "  </tbody>\n",
       "</table>\n",
       "</div>"
      ],
      "text/plain": [
       "      depth   time  EC [µS]  T [°C]\n",
       "0      deep  10:29     1219     4.8\n",
       "1      deep  10:30     1234     4.6\n",
       "2      deep  10:31     1247     4.4\n",
       "3      deep  10:46     1233     4.7\n",
       "4    medium  10:35     1958     5.3\n",
       "5    medium  10:36     1960     5.3\n",
       "6    medium  10:38     1970     5.2\n",
       "7    medium  10:48     1990     5.2\n",
       "8   shallow  10:42      891     6.6\n",
       "9   shallow  10:43      893     6.5\n",
       "10  shallow  10:44      893     6.5\n",
       "11  shallow  10:50      870     6.2"
      ]
     },
     "execution_count": 17,
     "metadata": {},
     "output_type": "execute_result"
    }
   ],
   "source": [
    "# Enter the data\n",
    "data = {\n",
    "    'depth': ['deep', 'deep', 'deep', 'deep',\n",
    "              'medium', 'medium', 'medium', 'medium',\n",
    "              'shallow', 'shallow', 'shallow', 'shallow'],\n",
    "    'time': ['10:29', '10:30', '10:31', '10:46',\n",
    "             '10:35', '10:36', '10:38', '10:48',\n",
    "            '10:42', '10:43', '10:44', '10:50'],\n",
    "    'EC [µS]': [1219, 1234, 1247, 1233,\n",
    "           1958, 1960, 1970, 1990,\n",
    "           891, 893, 893, 870],\n",
    "    'T [°C]': [4.8, 4.6, 4.4, 4.7,\n",
    "         5.3, 5.3, 5.2, 5.2,\n",
    "         6.6, 6.5, 6.5, 6.2]\n",
    "}\n",
    "df = pd.DataFrame.from_dict(data)\n",
    "df"
   ]
  },
  {
   "cell_type": "code",
   "execution_count": 25,
   "metadata": {},
   "outputs": [
    {
     "data": {
      "text/html": [
       "<div>\n",
       "<style scoped>\n",
       "    .dataframe tbody tr th:only-of-type {\n",
       "        vertical-align: middle;\n",
       "    }\n",
       "\n",
       "    .dataframe tbody tr th {\n",
       "        vertical-align: top;\n",
       "    }\n",
       "\n",
       "    .dataframe thead th {\n",
       "        text-align: right;\n",
       "    }\n",
       "</style>\n",
       "<table border=\"1\" class=\"dataframe\">\n",
       "  <thead>\n",
       "    <tr style=\"text-align: right;\">\n",
       "      <th></th>\n",
       "      <th>EC [µS]</th>\n",
       "      <th>T [°C]</th>\n",
       "    </tr>\n",
       "    <tr>\n",
       "      <th>depth</th>\n",
       "      <th></th>\n",
       "      <th></th>\n",
       "    </tr>\n",
       "  </thead>\n",
       "  <tbody>\n",
       "    <tr>\n",
       "      <th>deep</th>\n",
       "      <td>1233.0</td>\n",
       "      <td>4.6</td>\n",
       "    </tr>\n",
       "    <tr>\n",
       "      <th>medium</th>\n",
       "      <td>1970.0</td>\n",
       "      <td>5.2</td>\n",
       "    </tr>\n",
       "    <tr>\n",
       "      <th>shallow</th>\n",
       "      <td>887.0</td>\n",
       "      <td>6.4</td>\n",
       "    </tr>\n",
       "  </tbody>\n",
       "</table>\n",
       "</div>"
      ],
      "text/plain": [
       "         EC [µS]  T [°C]\n",
       "depth                   \n",
       "deep      1233.0     4.6\n",
       "medium    1970.0     5.2\n",
       "shallow    887.0     6.4"
      ]
     },
     "execution_count": 25,
     "metadata": {},
     "output_type": "execute_result"
    }
   ],
   "source": [
    "# Compute averages\n",
    "mean_vals = df.groupby('depth').mean()\n",
    "mean_vals['EC [µS]'] = mean_vals['EC [µS]'].round(0)\n",
    "mean_vals['T [°C]'] = mean_vals['T [°C]'].round(1)\n",
    "mean_vals"
   ]
  }
 ],
 "metadata": {
  "kernelspec": {
   "display_name": "Python 3",
   "language": "python",
   "name": "python3"
  },
  "language_info": {
   "codemirror_mode": {
    "name": "ipython",
    "version": 3
   },
   "file_extension": ".py",
   "mimetype": "text/x-python",
   "name": "python",
   "nbconvert_exporter": "python",
   "pygments_lexer": "ipython3",
   "version": "3.7.3"
  }
 },
 "nbformat": 4,
 "nbformat_minor": 2
}
